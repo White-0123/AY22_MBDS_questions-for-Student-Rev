{
 "cells": [
  {
   "cell_type": "code",
   "execution_count": 59,
   "metadata": {},
   "outputs": [],
   "source": [
    "import matplotlib.pyplot as plt"
   ]
  },
  {
   "cell_type": "code",
   "execution_count": 116,
   "metadata": {},
   "outputs": [],
   "source": [
    "p1 = 100\n",
    "p2 = 600\n",
    "p3 = 150\n",
    "start = 0.0  \n",
    "end = 1.5\n",
    "Nt = 10000\n",
    "h = (end-start)/float(Nt)\n",
    "\n",
    "t_array = []\n",
    "es_array = []\n",
    "e_array = []\n",
    "s_array = []\n",
    "p_array = []\n",
    "dpdt_array = []\n",
    "\n",
    "for i in range(0, Nt):\n",
    "    t_array.append(i*(end-start)/float(Nt))\n",
    "\n",
    "# 起始浓度\n",
    "es_array.append(0.0)\n",
    "e_array.append(1.0)\n",
    "s_array.append(175.0)\n",
    "p_array.append(0.0)\n",
    "\n",
    "\n",
    "def func_ES(t, es, e, s, p): return p1*e*s-p2*es-p3*es\n",
    "def func_E(t, es, e, s, p): return p2*es-p1*e*s+p3*es\n",
    "def func_S(t, es, e, s, p): return p2*es-p1*e*s\n",
    "def func_P(t, es, e, s, p): return p3*es\n",
    "\n",
    "\n",
    "for i in range(0, Nt-1):\n",
    "    K1_ES = func_ES(t_array[i], es_array[i],\n",
    "                    e_array[i], s_array[i], p_array[i])\n",
    "    K1_E = func_E(t_array[i], es_array[i], e_array[i], s_array[i], p_array[i])\n",
    "    K1_S = func_S(t_array[i], es_array[i], e_array[i], s_array[i], p_array[i])\n",
    "    K1_P = func_P(t_array[i], es_array[i], e_array[i], s_array[i], p_array[i])\n",
    "\n",
    "    tmp_es = es_array[i]+h/2*K1_ES\n",
    "    tmp_e = e_array[i]+h/2*K1_E\n",
    "    tmp_s = s_array[i]+h/2*K1_S\n",
    "    tmp_p = p_array[i]+h/2*K1_P\n",
    "\n",
    "    K2_ES = func_ES(t_array[i] + h / 2, tmp_es, tmp_e, tmp_s, tmp_p)\n",
    "    K2_E = func_E(t_array[i] + h / 2, tmp_es, tmp_e, tmp_s, tmp_p)\n",
    "    K2_S = func_S(t_array[i] + h / 2, tmp_es, tmp_e, tmp_s, tmp_p)\n",
    "    K2_P = func_P(t_array[i] + h / 2, tmp_es, tmp_e, tmp_s, tmp_p)\n",
    "\n",
    "    tmp_es = es_array[i]+h/2*K2_ES\n",
    "    tmp_e = e_array[i]+h/2*K2_E\n",
    "    tmp_s = s_array[i]+h/2*K2_S\n",
    "    tmp_p = p_array[i]+h/2*K2_P\n",
    "\n",
    "    K3_ES = func_ES(t_array[i] + h / 2, tmp_es, tmp_e, tmp_s, tmp_p)\n",
    "    K3_E = func_E(t_array[i] + h / 2, tmp_es, tmp_e, tmp_s, tmp_p)\n",
    "    K3_S = func_S(t_array[i] + h / 2, tmp_es, tmp_e, tmp_s, tmp_p)\n",
    "    K3_P = func_P(t_array[i] + h / 2, tmp_es, tmp_e, tmp_s, tmp_p)\n",
    "\n",
    "    tmp_es = es_array[i]+h*K3_ES\n",
    "    tmp_e = e_array[i]+h*K3_E\n",
    "    tmp_s = s_array[i]+h*K3_S\n",
    "    tmp_p = p_array[i]+h*K3_P\n",
    "\n",
    "    K4_ES = func_ES(t_array[i] + h / 2, tmp_es, tmp_e, tmp_s, tmp_p)\n",
    "    K4_E = func_E(t_array[i] + h / 2, tmp_es, tmp_e, tmp_s, tmp_p)\n",
    "    K4_S = func_S(t_array[i] + h / 2, tmp_es, tmp_e, tmp_s, tmp_p)\n",
    "    K4_P = func_P(t_array[i] + h / 2, tmp_es, tmp_e, tmp_s, tmp_p)\n",
    "\n",
    "    es_array.append(es_array[i] + h / 6 *\n",
    "                    (K1_ES + 2 * K2_ES + 2 * K3_ES + K4_ES))\n",
    "    e_array.append(e_array[i] + h / 6 * (K1_E + 2 * K2_E + 2 * K3_E + K4_E))\n",
    "    s_array.append(s_array[i] + h / 6 * (K1_S + 2 * K2_S + 2 * K3_S + K4_S))\n",
    "    p_array.append(p_array[i] + h / 6 * (K1_P + 2 * K2_P + 2 * K3_P + K4_P))\n",
    "\n",
    "for index in range(0, Nt-1):\n",
    "    dpdt_array.append((p_array[index+1]-p_array[index])/h)"
   ]
  },
  {
   "cell_type": "code",
   "execution_count": null,
   "metadata": {},
   "outputs": [],
   "source": [
    "#print(\"序号\\tt\\tes\\te\\ts\\tp\\tdp/dt\")\n",
    "#for index in range(0, Nt-1):\n",
    "#    print(index, '\\t', t_array[index], '\\t', es_array[index], '\\t', e_array[index],\n",
    "#          '\\t', s_array[index], '\\t', p_array[index], '\\t', dpdt_array[index])"
   ]
  },
  {
   "cell_type": "code",
   "execution_count": 117,
   "metadata": {},
   "outputs": [],
   "source": [
    "es_array.__delitem__(Nt-1)\n",
    "e_array.__delitem__(Nt-1)\n",
    "s_array.__delitem__(Nt-1)\n",
    "p_array.__delitem__(Nt-1)\n",
    "t_array.__delitem__(Nt-1)"
   ]
  },
  {
   "cell_type": "code",
   "execution_count": 120,
   "metadata": {},
   "outputs": [
    {
     "data": {
      "image/png": "[encoded data removed]",
      "text/plain": [
       "<Figure size 432x288 with 1 Axes>"
      ]
     },
     "metadata": {
      "needs_background": "light"
     },
     "output_type": "display_data"
    }
   ],
   "source": [
    "# 以s为横轴，dp/dt为纵轴\n",
    "plt.plot(s_array, dpdt_array)\n",
    "plt.xlabel(\"the Concentration of S\")\n",
    "plt.ylabel(\"Velocity\")\n",
    "plt.xlim(0, 170)\n",
    "plt.ylim(0, 160)\n",
    "plt.show()"
   ]
  },
  {
   "cell_type": "code",
   "execution_count": null,
   "metadata": {},
   "outputs": [],
   "source": []
  }
 ],
 "metadata": {
  "kernelspec": {
   "display_name": "Python 3",
   "language": "python",
   "name": "python3"
  },
  "language_info": {
   "codemirror_mode": {
    "name": "ipython",
    "version": 3
   },
   "file_extension": ".py",
   "mimetype": "text/x-python",
   "name": "python",
   "nbconvert_exporter": "python",
   "pygments_lexer": "ipython3",
   "version": "3.7.6"
  }
 },
 "nbformat": 4,
 "nbformat_minor": 4
}
