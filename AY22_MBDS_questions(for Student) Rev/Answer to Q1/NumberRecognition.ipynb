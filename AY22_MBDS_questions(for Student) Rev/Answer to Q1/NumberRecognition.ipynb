{
 "cells": [
  {
   "cell_type": "markdown",
   "metadata": {},
   "source": [
    "# Guide library"
   ]
  },
  {
   "cell_type": "code",
   "execution_count": 2,
   "metadata": {},
   "outputs": [],
   "source": [
    "import tensorflow as tf\n",
    "from tensorflow.keras import datasets, optimizers, layers\n",
    "from tensorflow.keras.models import Model\n",
    "import numpy as np\n",
    "import matplotlib.pyplot as plt\n",
    "from tensorflow.keras.metrics import AUC\n",
    "from sklearn.metrics import roc_curve, auc"
   ]
  },
  {
   "cell_type": "markdown",
   "metadata": {},
   "source": [
    "# Data loading"
   ]
  },
  {
   "cell_type": "code",
   "execution_count": 3,
   "metadata": {},
   "outputs": [
    {
     "name": "stdout",
     "output_type": "stream",
     "text": [
      "(12188, 28, 28, 1) (2008, 28, 28, 1) (12188,) (2008,)\n"
     ]
    }
   ],
   "source": [
    "#Load the data set and separate the 7 from the 0\n",
    "(x, y),(x_val, y_val) = datasets.mnist.load_data()\n",
    "#The separation of X's, and then stacking them up with matrices, same thing here\n",
    "x_seven = x[y==7]\n",
    "x_zero = x[y==0]\n",
    "X = np.vstack((x_seven, x_zero))\n",
    "#The separation of X_val\n",
    "x_val_seven = x_val[y_val==7]\n",
    "x_val_zero = x_val[y_val==0]\n",
    "X_val = np.vstack((x_val_seven, x_val_zero))\n",
    "#The separation of Y\n",
    "y_seven = y[y==7]\n",
    "y_zero = y[y==0]\n",
    "Y = np.hstack((y_seven, y_zero))\n",
    "#The separation of Y_val\n",
    "y_val_seven = y_val[y_val==7]\n",
    "y_val_zero = y_val[y_val==0]\n",
    "Y_val = np.hstack((y_val_seven, y_val_zero))\n",
    "#normalization\n",
    "X, X_val = X / 255.0, X_val / 255.0\n",
    "#Channel Setting 1\n",
    "X = np.expand_dims(X, 3)\n",
    "X_val = np.expand_dims(X_val, 3)\n",
    "#print the shape\n",
    "print(X.shape, X_val.shape, Y.shape, Y_val.shape)"
   ]
  },
  {
   "cell_type": "markdown",
   "metadata": {},
   "source": [
    "# Model building"
   ]
  },
  {
   "cell_type": "code",
   "execution_count": 4,
   "metadata": {},
   "outputs": [
    {
     "name": "stdout",
     "output_type": "stream",
     "text": [
      "WARNING:tensorflow:From /Users/liyueyuan/opt/anaconda3/lib/python3.7/site-packages/tensorflow/python/ops/init_ops.py:1251: calling VarianceScaling.__init__ (from tensorflow.python.ops.init_ops) with dtype is deprecated and will be removed in a future version.\n",
      "Instructions for updating:\n",
      "Call initializer instance with the dtype argument instead of passing it to the constructor\n"
     ]
    }
   ],
   "source": [
    "inputs = layers.Input([28,28,1])\n",
    "mid_out = layers.Conv2D(32, kernel_size= (5, 5), padding = 'same', activation=\"relu\")(inputs)\n",
    "mid_out = layers.MaxPooling2D(pool_size = (2, 2), strides = 2, padding = 'same')(mid_out)\n",
    "mid_out = layers.Conv2D(32, kernel_size= (5, 5), padding = 'same', activation=\"relu\")(mid_out)\n",
    "mid_out = layers.MaxPooling2D(pool_size = (2, 2), strides = 2, padding = 'same')(mid_out)\n",
    "mid_out = layers.Flatten()(mid_out)\n",
    "mid_out = layers.Dense(512)(mid_out)\n",
    "mid_out = layers.Dense(256)(mid_out)\n",
    "mid_out = layers.Dense(128)(mid_out)\n",
    "y = layers.Dense(10, activation='softmax')(mid_out)\n",
    "\n",
    "cnn = Model(inputs,y)"
   ]
  },
  {
   "cell_type": "markdown",
   "metadata": {},
   "source": [
    "# Model training"
   ]
  },
  {
   "cell_type": "code",
   "execution_count": 5,
   "metadata": {
    "scrolled": true
   },
   "outputs": [
    {
     "name": "stdout",
     "output_type": "stream",
     "text": [
      "Train on 9750 samples, validate on 2438 samples\n",
      "Epoch 1/10\n",
      "9750/9750 - 9s - loss: 0.6362 - acc: 0.8770 - val_loss: 0.1184 - val_acc: 0.9811\n",
      "Epoch 2/10\n",
      "9750/9750 - 12s - loss: 0.0527 - acc: 0.9918 - val_loss: 0.0419 - val_acc: 0.9906\n",
      "Epoch 3/10\n",
      "9750/9750 - 11s - loss: 0.0221 - acc: 0.9958 - val_loss: 0.0258 - val_acc: 0.9947\n",
      "Epoch 4/10\n",
      "9750/9750 - 167s - loss: 0.0139 - acc: 0.9971 - val_loss: 0.0147 - val_acc: 0.9971\n",
      "Epoch 5/10\n",
      "9750/9750 - 10s - loss: 0.0101 - acc: 0.9979 - val_loss: 0.0131 - val_acc: 0.9975\n",
      "Epoch 6/10\n",
      "9750/9750 - 9s - loss: 0.0080 - acc: 0.9983 - val_loss: 0.0075 - val_acc: 0.9975\n",
      "Epoch 7/10\n",
      "9750/9750 - 8s - loss: 0.0067 - acc: 0.9987 - val_loss: 0.0100 - val_acc: 0.9975\n",
      "Epoch 8/10\n",
      "9750/9750 - 8s - loss: 0.0057 - acc: 0.9990 - val_loss: 0.0077 - val_acc: 0.9975\n",
      "Epoch 9/10\n",
      "9750/9750 - 8s - loss: 0.0051 - acc: 0.9990 - val_loss: 0.0069 - val_acc: 0.9975\n",
      "Epoch 10/10\n",
      "9750/9750 - 8s - loss: 0.0046 - acc: 0.9989 - val_loss: 0.0072 - val_acc: 0.9975\n"
     ]
    }
   ],
   "source": [
    "#Setting model parameters\n",
    "cnn.compile(optimizer=optimizers.Adam(0.00001),\n",
    "              loss='sparse_categorical_crossentropy',\n",
    "              metrics=['accuracy'])\n",
    "#Model training and record the process\n",
    "process = cnn.fit(X, Y, validation_split=0.2, epochs=10, verbose=2)"
   ]
  },
  {
   "cell_type": "markdown",
   "metadata": {},
   "source": [
    "# Model evaluation"
   ]
  },
  {
   "cell_type": "code",
   "execution_count": 6,
   "metadata": {
    "scrolled": false
   },
   "outputs": [
    {
     "name": "stdout",
     "output_type": "stream",
     "text": [
      "2008/2008 [==============================] - 0s 188us/sample - loss: 0.0084 - acc: 0.9975\n",
      "测试集准确率是0.9975\n"
     ]
    }
   ],
   "source": [
    "#Evaluate the accuracy of the test set\n",
    "loss, scores = cnn.evaluate(X_val, Y_val)\n",
    "print(\"测试集准确率是%.4f\"% scores)"
   ]
  },
  {
   "cell_type": "code",
   "execution_count": 7,
   "metadata": {
    "scrolled": true
   },
   "outputs": [
    {
     "data": {
      "image/png": "[encoded data removed]",
      "text/plain": [
       "<Figure size 360x216 with 1 Axes>"
      ]
     },
     "metadata": {
      "needs_background": "light"
     },
     "output_type": "display_data"
    }
   ],
   "source": [
    "#Draw the accuracy curve in the training process\n",
    "plt.figure(figsize=(5, 3))\n",
    "plt.plot(range(1,11), process.history[\"acc\"], c=\"c\")\n",
    "plt.plot(range(1,11), process.history[\"val_acc\"], c=\"y\")\n",
    "plt.xlabel(\"epoch\")\n",
    "plt.ylabel(\"accuracy\")\n",
    "plt.show()"
   ]
  },
  {
   "cell_type": "code",
   "execution_count": 8,
   "metadata": {},
   "outputs": [
    {
     "data": {
      "image/png": "[encoded data removed]",
      "text/plain": [
       "<Figure size 360x216 with 1 Axes>"
      ]
     },
     "metadata": {
      "needs_background": "light"
     },
     "output_type": "display_data"
    }
   ],
   "source": [
    "#Draw the loss curve during the process\n",
    "plt.figure(figsize=(5, 3))\n",
    "plt.plot(range(1,11), process.history[\"loss\"], c=\"c\")\n",
    "plt.plot(range(1,11), process.history[\"val_loss\"], c=\"y\")\n",
    "plt.xlabel(\"epoch\")\n",
    "plt.ylabel(\"loss\")\n",
    "plt.show()"
   ]
  },
  {
   "cell_type": "code",
   "execution_count": 9,
   "metadata": {},
   "outputs": [
    {
     "name": "stdout",
     "output_type": "stream",
     "text": [
      "auc为: 0.9975483650637803\n"
     ]
    },
    {
     "data": {
      "image/png": "[encoded data removed]",
      "text/plain": [
       "<Figure size 720x576 with 1 Axes>"
      ]
     },
     "metadata": {
      "needs_background": "light"
     },
     "output_type": "display_data"
    }
   ],
   "source": [
    "#auc\n",
    "y_pred = cnn.predict(X_val)\n",
    "y_pred = y_pred>0.5\n",
    "y_p = []\n",
    "for i in range(y_pred.shape[0]):\n",
    "    for j in range(y_pred.shape[1]):\n",
    "        if y_pred[i][j] == True and j > 1:\n",
    "            y_p.append(1)\n",
    "        elif y_pred[i][j] == True and j == 0:\n",
    "            y_p.append(0)\n",
    "for i in range(len(Y_val)):\n",
    "    if Y_val[i] > 1:\n",
    "        Y_val[i] = 1\n",
    "fpr, tpr, thres = roc_curve(y_p, Y_val)\n",
    "print(\"auc为:\", auc(fpr, tpr))\n",
    "#ROC curve\n",
    "fig,ax = plt.subplots(figsize=(10,8))\n",
    "\n",
    "ax.plot(fpr, tpr, linewidth=2,\n",
    "        label='(AUC={})'.format(str(round(auc(fpr, tpr),3))))\n",
    "plt.show()"
   ]
  },
  {
   "cell_type": "code",
   "execution_count": null,
   "metadata": {},
   "outputs": [],
   "source": []
  }
 ],
 "metadata": {
  "kernelspec": {
   "display_name": "Python 3",
   "language": "python",
   "name": "python3"
  },
  "language_info": {
   "codemirror_mode": {
    "name": "ipython",
    "version": 3
   },
   "file_extension": ".py",
   "mimetype": "text/x-python",
   "name": "python",
   "nbconvert_exporter": "python",
   "pygments_lexer": "ipython3",
   "version": "3.7.6"
  }
 },
 "nbformat": 4,
 "nbformat_minor": 5
}
